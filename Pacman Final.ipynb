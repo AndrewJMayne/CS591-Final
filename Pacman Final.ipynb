{
 "cells": [
  {
   "cell_type": "code",
   "execution_count": 28,
   "id": "d4c0a1bb",
   "metadata": {},
   "outputs": [],
   "source": [
    "import gym\n",
    "from gym import wrappers\n",
    "import numpy as np\n",
    "import _pickle as pickle"
   ]
  },
  {
   "cell_type": "code",
   "execution_count": 40,
   "id": "8d46d217",
   "metadata": {},
   "outputs": [],
   "source": [
    "env = gym.make('MsPacman-v0')\n",
    "# Define hyperparameters\n",
    "learning_rate = 0.00025\n",
    "gamma = 0.99\n",
    "epsilon = 0.01\n",
    "decay_rate = 0.99\n",
    "explotation_rate = 0.8\n",
    "batch_size = 5\n",
    "\n",
    "prev_x = None\n",
    "resume = False \n",
    "\n",
    "# Initialize weights and RMSprop variables\n",
    "input_size = env.observation_space.shape[0]\n",
    "hidden_size = 500\n",
    "output_size = env.action_space.n\n",
    "D = 185 * 95 # input size \n",
    "\n",
    "if resume:\n",
    "    model = pickle.load(open('save.p', 'rb'))\n",
    "else:\n",
    "    model = {}\n",
    "    model['W1'] = np.random.randn(hidden_size, D) / np.sqrt(D)\n",
    "    model['W2'] = np.random.randn(hidden_size, output_size) / np.sqrt(hidden_size)\n",
    "\n",
    "\n",
    "r_w1 = np.zeros_like(model['W1'])\n",
    "r_w2 = np.zeros_like(model['W2'])\n",
    "\n",
    "grad_buffer = { k : np.zeros_like(v) for k,v in model.items() } # update buffers that add up gradients over a batch\n",
    "rmsprop_cache = { k : np.zeros_like(v) for k,v in model.items() }"
   ]
  },
  {
   "cell_type": "code",
   "execution_count": 41,
   "id": "b9062428",
   "metadata": {},
   "outputs": [],
   "source": [
    "# Define helper function to preprocess observations\n",
    "def preprocess(observation):\n",
    "    if type(observation) is tuple: \n",
    "        o = observation[0]\n",
    "    else:\n",
    "        o = observation\n",
    "    processed_observation = np.mean(o[15:200, 30:125], axis=2)\n",
    "    processed_observation[processed_observation == 144] = 0\n",
    "    processed_observation[processed_observation == 109] = 0\n",
    "    processed_observation[processed_observation != 0] = 1\n",
    "    return processed_observation.astype(np.float).ravel()\n",
    "\n",
    "# Define function to compute forward pass of neural network\n",
    "def forward(observation, w1, w2):\n",
    "    h = np.dot(w1, observation)\n",
    "    h[h<0] = 0\n",
    "    y = np.dot(h, w2)\n",
    "    return y, h"
   ]
  },
  {
   "cell_type": "code",
   "execution_count": 42,
   "id": "39f3ec55",
   "metadata": {},
   "outputs": [],
   "source": [
    "def discount_rewards(r):\n",
    "\n",
    "    discounted_r = np.zeros_like(r)\n",
    "    running_add = 0\n",
    "    for t in reversed(range(0, r.size)): # xrange is no longer supported in Python 3, replace with range\n",
    "        \n",
    "        running_add = running_add * gamma + r[t]\n",
    "        discounted_r[t] = running_add\n",
    "    return discounted_r"
   ]
  },
  {
   "cell_type": "code",
   "execution_count": 43,
   "id": "e6d92321",
   "metadata": {},
   "outputs": [],
   "source": [
    "def policy_backward(eph, epx, epdlogp):\n",
    "    dW2 = np.dot(eph.T, epdlogp).ravel()\n",
    "    dh = np.outer(epdlogp, model['W2'])\n",
    "    dh[eph <= 0] = 0 # backpro prelu\n",
    "    dW1 = np.dot(dh.T, epx)\n",
    "    return {'W1':dW1, 'W2':dW2}"
   ]
  },
  {
   "cell_type": "code",
   "execution_count": null,
   "id": "f85a3de5",
   "metadata": {
    "scrolled": true
   },
   "outputs": [],
   "source": [
    "for episode in range(1, 101):\n",
    "    observation = env.reset()\n",
    "    done = False\n",
    "    reward_sum = 0\n",
    "    w1 = model['W1']\n",
    "    w2 = model['W2']     \n",
    "    while not done:\n",
    "        x = preprocess(observation)\n",
    "        y, h = forward(x, model['W1'], model['W2'])\n",
    "        \n",
    "        a = np.argmax(y) \n",
    "        if np.random.uniform() < explotation_rate:\n",
    "            a = (np.argmax(y) + np.random.randint(1,9)) % 9 \n",
    "        else:\n",
    "            a = np.argmax(y)\n",
    "            \n",
    "        observation, reward, terminated, turncated, info = env.step(a)\n",
    "        done = terminated or turncated\n",
    "        \n",
    "        reward_sum += reward\n",
    "        y_target = np.zeros(output_size)\n",
    "        y_target[a] = reward + gamma * np.max(forward(preprocess(observation), model['W1'], model['W2'])[0])\n",
    "            \n",
    "        delta3 = y - y_target\n",
    "        delta2 = np.dot(delta3, model['W2'].T)\n",
    "        delta2[h<=0] = 0\n",
    "        dw2 = np.outer(h, delta3)\n",
    "        dw1 = np.outer(x, delta2)\n",
    "        r_w2 = decay_rate * r_w2 + (1 - decay_rate) * dw2**2\n",
    "        r_w1 = decay_rate * r_w1 + (1 - decay_rate) * np.multiply(dw1.T, dw1.T)\n",
    "        w2 -= learning_rate * dw2 / (np.sqrt(r_w2) + epsilon)\n",
    "        w1 -= learning_rate * dw1.T / (np.sqrt(r_w1) + epsilon)\n",
    "        \n",
    "        grad = {'W1': w1, 'W2': w2}\n",
    "        for k in model: grad_buffer[k] += grad[k]\n",
    "            \n",
    "    print('Episode %d - Total Reward: %d' % (episode, reward_sum))\n",
    "    if episode % batch_size == 0:\n",
    "        for k,v in model.items():\n",
    "            g = grad_buffer[k] # gradient\n",
    "            rmsprop_cache[k] = decay_rate * rmsprop_cache[k] + (1 - decay_rate) * g**2\n",
    "            model[k] += learning_rate * g / (np.sqrt(rmsprop_cache[k]) + 1e-5)\n",
    "            grad_buffer[k] = np.zeros_like(v) # reset batch gradient buffer\n",
    "        fileName = f'save{episode}.p'\n",
    "        pickle.dump(model, open(fileName, 'wb'))\n",
    "\n",
    "env.close()\n",
    "pickle.dump(model, open('save.p', 'wb'))"
   ]
  },
  {
   "cell_type": "code",
   "execution_count": 46,
   "id": "0d224dc5",
   "metadata": {},
   "outputs": [],
   "source": [
    "def policy(obs):\n",
    "    x = preprocess(obs)\n",
    "    y, h = forward(x, model['W1'], model['W2'])\n",
    "    a = np.argmax(y)\n",
    "    return a"
   ]
  },
  {
   "cell_type": "code",
   "execution_count": null,
   "id": "595b0aa9",
   "metadata": {},
   "outputs": [
    {
     "name": "stderr",
     "output_type": "stream",
     "text": [
      "C:\\Users\\andre\\AppData\\Roaming\\Python\\Python39\\site-packages\\gym\\envs\\registration.py:555: UserWarning: \u001b[33mWARN: The environment MsPacman-v0 is out of date. You should consider upgrading to version `v4`.\u001b[0m\n",
      "  logger.warn(\n",
      "C:\\Users\\andre\\AppData\\Local\\Temp\\ipykernel_26880\\1700347536.py:11: DeprecationWarning: `np.float` is a deprecated alias for the builtin `float`. To silence this warning, use `float` by itself. Doing this will not modify any behavior and is safe. If you specifically wanted the numpy scalar type, use `np.float64` here.\n",
      "Deprecated in NumPy 1.20; for more details and guidance: https://numpy.org/devdocs/release/1.20.0-notes.html#deprecations\n",
      "  return processed_observation.astype(np.float).ravel()\n"
     ]
    }
   ],
   "source": [
    "env = gym.make('MsPacman-v0', render_mode = 'human')\n",
    "observation = env.reset()\n",
    "done = False\n",
    "while not done:\n",
    "    a = policy(observation)\n",
    "    observation, reward, terminated, turncated, info = env.step(a)\n",
    "    reward_sum += reward\n",
    "    done = terminated or turncated\n",
    "    \n",
    "print('Total reward: ', reward_sum)\n",
    "env.close()"
   ]
  },
  {
   "cell_type": "code",
   "execution_count": null,
   "id": "a7317ac8",
   "metadata": {},
   "outputs": [],
   "source": []
  }
 ],
 "metadata": {
  "kernelspec": {
   "display_name": "Python 3 (ipykernel)",
   "language": "python",
   "name": "python3"
  },
  "language_info": {
   "codemirror_mode": {
    "name": "ipython",
    "version": 3
   },
   "file_extension": ".py",
   "mimetype": "text/x-python",
   "name": "python",
   "nbconvert_exporter": "python",
   "pygments_lexer": "ipython3",
   "version": "3.9.12"
  }
 },
 "nbformat": 4,
 "nbformat_minor": 5
}
